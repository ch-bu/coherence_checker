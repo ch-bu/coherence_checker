{
 "cells": [
  {
   "cell_type": "code",
   "execution_count": 1,
   "metadata": {
    "collapsed": true
   },
   "outputs": [],
   "source": [
    "# Import spacy\n",
    "import spacy\n",
    "nlp = spacy.load('en_core_web_md')"
   ]
  },
  {
   "cell_type": "code",
   "execution_count": 36,
   "metadata": {
    "collapsed": false
   },
   "outputs": [],
   "source": [
    "text = u\"\"\"Self-efficacy, also referred as personal efficacy, is confidence in one's own ability to achieve \n",
    "intended results. Psychologists have studied self-efficacy from several perspectives, noting various paths in \n",
    "the development of self-efficacy; the dynamics of self-efficacy, and lack thereof, in many different settings; \n",
    "interactions between self-efficacy and self-concept; and habits of attribution that contribute to, or detract \n",
    "from, self-efficacy.\n",
    "Self-efficacy affects every area of human endeavor. By determining the beliefs a person holds regarding \n",
    "his or her power to affect situations, it strongly influences both the power a person actually has to \n",
    "face challenges competently and the choices a person is most likely to make. These effects are particularly \n",
    "apparent, and compelling, with regard to behaviors affecting health. The universe is a vast space. The earth is in the middle. The sun is next to it.\"\"\""
   ]
  },
  {
   "cell_type": "code",
   "execution_count": 3,
   "metadata": {
    "collapsed": false
   },
   "outputs": [],
   "source": [
    "%load_ext autoreload"
   ]
  },
  {
   "cell_type": "code",
   "execution_count": 67,
   "metadata": {
    "collapsed": false
   },
   "outputs": [
    {
     "name": "stdout",
     "output_type": "stream",
     "text": [
      "[1, 2]\n"
     ]
    }
   ],
   "source": [
    "x = [1, 1, 2]\n",
    "print list(set(x))"
   ]
  },
  {
   "cell_type": "code",
   "execution_count": 40,
   "metadata": {
    "collapsed": false,
    "scrolled": false
   },
   "outputs": [
    {
     "name": "stdout",
     "output_type": "stream",
     "text": [
      "[(Self, Psychologists, 0.22543768243443515), (Self, self, 1.0000001348702079), (Self, efficacy, 0.21992186545426695), (Self, perspectives, 0.2299335422533266), (Self, paths, 0.26847872155126734), (Self, development, 0.28900448724766259), (Self, self, 1.0000001348702079), (Self, efficacy, 0.21992186545426695), (Self, dynamics, 0.18608463103638975), (Self, self, 1.0000001348702079), (Self, efficacy, 0.21992186545426695), (Self, lack, 0.38128088284853512), (Self, settings, 0.15887396446993696), (Self, interactions, 0.16552227675209114), (Self, self, 1.0000001348702079), (Self, efficacy, 0.21992186545426695), (Self, self, 1.0000001348702079), (Self, concept, 0.33215612921162352), (Self, habits, 0.35346656281904665), (Self, attribution, 0.17554084783273383), (Self, self, 1.0000001348702079), (Self, efficacy, 0.21992186545426695), (efficacy, Psychologists, 0.25993589597943612), (efficacy, self, 0.21992186545426695), (efficacy, efficacy, 0.99999998883457986), (efficacy, perspectives, 0.33691577820424068), (efficacy, paths, 0.12942482808980435), (efficacy, development, 0.3242557198053922), (efficacy, self, 0.21992186545426695), (efficacy, efficacy, 0.99999998883457986), (efficacy, dynamics, 0.28161272471679838), (efficacy, self, 0.21992186545426695), (efficacy, efficacy, 0.99999998883457986), (efficacy, lack, 0.37661669665300807), (efficacy, settings, 0.18512495690277098), (efficacy, interactions, 0.43249639434737358), (efficacy, self, 0.21992186545426695), (efficacy, efficacy, 0.99999998883457986), (efficacy, self, 0.21992186545426695), (efficacy, concept, 0.26532267556095163), (efficacy, habits, 0.24260216240792581), (efficacy, attribution, 0.20111340901945449), (efficacy, self, 0.21992186545426695), (efficacy, efficacy, 0.99999998883457986), (efficacy, Psychologists, 0.25993589597943612), (efficacy, self, 0.21992186545426695), (efficacy, efficacy, 0.99999998883457986), (efficacy, perspectives, 0.33691577820424068), (efficacy, paths, 0.12942482808980435), (efficacy, development, 0.3242557198053922), (efficacy, self, 0.21992186545426695), (efficacy, efficacy, 0.99999998883457986), (efficacy, dynamics, 0.28161272471679838), (efficacy, self, 0.21992186545426695), (efficacy, efficacy, 0.99999998883457986), (efficacy, lack, 0.37661669665300807), (efficacy, settings, 0.18512495690277098), (efficacy, interactions, 0.43249639434737358), (efficacy, self, 0.21992186545426695), (efficacy, efficacy, 0.99999998883457986), (efficacy, self, 0.21992186545426695), (efficacy, concept, 0.26532267556095163), (efficacy, habits, 0.24260216240792581), (efficacy, attribution, 0.20111340901945449), (efficacy, self, 0.21992186545426695), (efficacy, efficacy, 0.99999998883457986), (confidence, Psychologists, 0.1676072128444823), (confidence, self, 0.45086983351024518), (confidence, efficacy, 0.29705202636421973), (confidence, perspectives, 0.25770645761856481), (confidence, paths, 0.20024382478601038), (confidence, development, 0.32829156588084274), (confidence, self, 0.45086983351024518), (confidence, efficacy, 0.29705202636421973), (confidence, dynamics, 0.25324713942855426), (confidence, self, 0.45086983351024518), (confidence, efficacy, 0.29705202636421973), (confidence, lack, 0.52175086632712508), (confidence, settings, 0.11432134623594047), (confidence, interactions, 0.21486672805227028), (confidence, self, 0.45086983351024518), (confidence, efficacy, 0.29705202636421973), (confidence, self, 0.45086983351024518), (confidence, concept, 0.24787684554175715), (confidence, habits, 0.36621013631174593), (confidence, attribution, 0.20281178127358152), (confidence, self, 0.45086983351024518), (confidence, efficacy, 0.29705202636421973), (ability, Psychologists, 0.20536904417007765), (ability, self, 0.38354930799682879), (ability, efficacy, 0.34644913240775921), (ability, perspectives, 0.35115493198413783), (ability, paths, 0.29130045643470592), (ability, development, 0.4320821122586298), (ability, self, 0.38354930799682879), (ability, efficacy, 0.34644913240775921), (ability, dynamics, 0.36937901412868412), (ability, self, 0.38354930799682879), (ability, efficacy, 0.34644913240775921), (ability, lack, 0.60236556741118585), (ability, settings, 0.33550650366408846), (ability, interactions, 0.3903833191522656), (ability, self, 0.38354930799682879), (ability, efficacy, 0.34644913240775921), (ability, self, 0.38354930799682879), (ability, concept, 0.35151835761830819), (ability, habits, 0.39350609097552969), (ability, attribution, 0.21964720504861215), (ability, self, 0.38354930799682879), (ability, efficacy, 0.34644913240775921), (results, Psychologists, 0.15496487171315751), (results, self, 0.23850426268212771), (results, efficacy, 0.409046322062531), (results, perspectives, 0.21734241394806533), (results, paths, 0.18414911317191357), (results, development, 0.30279185952270632), (results, self, 0.23850426268212771), (results, efficacy, 0.409046322062531), (results, dynamics, 0.24976461714598203), (results, self, 0.23850426268212771), (results, efficacy, 0.409046322062531), (results, lack, 0.3531910309000032), (results, settings, 0.222565306939246), (results, interactions, 0.29539223033353562), (results, self, 0.23850426268212771), (results, efficacy, 0.409046322062531), (results, self, 0.23850426268212771), (results, concept, 0.20385312375720735), (results, habits, 0.22398375681729446), (results, attribution, 0.13105712810202019), (results, self, 0.23850426268212771), (results, efficacy, 0.409046322062531)]\n",
      "[(Self, self, 1.0000001348702079), (Self, self, 1.0000001348702079), (Self, self, 1.0000001348702079), (Self, self, 1.0000001348702079), (Self, self, 1.0000001348702079), (Self, self, 1.0000001348702079), (efficacy, efficacy, 0.99999998883457986), (efficacy, efficacy, 0.99999998883457986), (efficacy, efficacy, 0.99999998883457986), (efficacy, efficacy, 0.99999998883457986), (efficacy, efficacy, 0.99999998883457986), (efficacy, efficacy, 0.99999998883457986), (efficacy, efficacy, 0.99999998883457986), (efficacy, efficacy, 0.99999998883457986), (efficacy, efficacy, 0.99999998883457986), (efficacy, efficacy, 0.99999998883457986), (ability, lack, 0.60236556741118585)]\n",
      "ability\n",
      "lack\n",
      "[(Psychologists, Self, 0.22543768243443515), (Psychologists, efficacy, 0.25993589597943612), (Psychologists, area, 0.1701798425201681), (Psychologists, endeavor, 0.20111282585282883), (self, Self, 1.0000001348702079), (self, efficacy, 0.21992186545426695), (self, area, 0.29111936585911424), (self, endeavor, 0.31275950794263935), (efficacy, Self, 0.21992186545426695), (efficacy, efficacy, 0.99999998883457986), (efficacy, area, 0.097796148794859636), (efficacy, endeavor, 0.25664263533349962), (perspectives, Self, 0.2299335422533266), (perspectives, efficacy, 0.33691577820424068), (perspectives, area, 0.19318192504941656), (perspectives, endeavor, 0.36850184646693435), (paths, Self, 0.26847872155126734), (paths, efficacy, 0.12942482808980435), (paths, area, 0.34483205822386276), (paths, endeavor, 0.25889054824726171), (development, Self, 0.28900448724766259), (development, efficacy, 0.3242557198053922), (development, area, 0.41923085064486887), (development, endeavor, 0.36998252696351736), (self, Self, 1.0000001348702079), (self, efficacy, 0.21992186545426695), (self, area, 0.29111936585911424), (self, endeavor, 0.31275950794263935), (efficacy, Self, 0.21992186545426695), (efficacy, efficacy, 0.99999998883457986), (efficacy, area, 0.097796148794859636), (efficacy, endeavor, 0.25664263533349962), (dynamics, Self, 0.18608463103638975), (dynamics, efficacy, 0.28161272471679838), (dynamics, area, 0.17802850906031009), (dynamics, endeavor, 0.20109261860287508), (self, Self, 1.0000001348702079), (self, efficacy, 0.21992186545426695), (self, area, 0.29111936585911424), (self, endeavor, 0.31275950794263935), (efficacy, Self, 0.21992186545426695), (efficacy, efficacy, 0.99999998883457986), (efficacy, area, 0.097796148794859636), (efficacy, endeavor, 0.25664263533349962), (lack, Self, 0.38128088284853512), (lack, efficacy, 0.37661669665300807), (lack, area, 0.34651675701322432), (lack, endeavor, 0.33413986671120105), (settings, Self, 0.15887396446993696), (settings, efficacy, 0.18512495690277098), (settings, area, 0.24030720466292643), (settings, endeavor, 0.0938582245944211), (interactions, Self, 0.16552227675209114), (interactions, efficacy, 0.43249639434737358), (interactions, area, 0.17489296733141216), (interactions, endeavor, 0.23595409722780408), (self, Self, 1.0000001348702079), (self, efficacy, 0.21992186545426695), (self, area, 0.29111936585911424), (self, endeavor, 0.31275950794263935), (efficacy, Self, 0.21992186545426695), (efficacy, efficacy, 0.99999998883457986), (efficacy, area, 0.097796148794859636), (efficacy, endeavor, 0.25664263533349962), (self, Self, 1.0000001348702079), (self, efficacy, 0.21992186545426695), (self, area, 0.29111936585911424), (self, endeavor, 0.31275950794263935), (concept, Self, 0.33215612921162352), (concept, efficacy, 0.26532267556095163), (concept, area, 0.24834316324950229), (concept, endeavor, 0.39840291896838614), (habits, Self, 0.35346656281904665), (habits, efficacy, 0.24260216240792581), (habits, area, 0.16775492611543844), (habits, endeavor, 0.37108860613138023), (attribution, Self, 0.17554084783273383), (attribution, efficacy, 0.20111340901945449), (attribution, area, 0.042506489101890151), (attribution, endeavor, 0.1954511118027237), (self, Self, 1.0000001348702079), (self, efficacy, 0.21992186545426695), (self, area, 0.29111936585911424), (self, endeavor, 0.31275950794263935), (efficacy, Self, 0.21992186545426695), (efficacy, efficacy, 0.99999998883457986), (efficacy, area, 0.097796148794859636), (efficacy, endeavor, 0.25664263533349962)]\n",
      "[(self, Self, 1.0000001348702079), (efficacy, efficacy, 0.99999998883457986), (self, Self, 1.0000001348702079), (efficacy, efficacy, 0.99999998883457986), (self, Self, 1.0000001348702079), (efficacy, efficacy, 0.99999998883457986), (self, Self, 1.0000001348702079), (efficacy, efficacy, 0.99999998883457986), (self, Self, 1.0000001348702079), (self, Self, 1.0000001348702079), (efficacy, efficacy, 0.99999998883457986)]\n",
      "[(Self, beliefs, 0.41770245360034208), (Self, person, 0.49880184741096151), (Self, power, 0.33889727713739048), (Self, situations, 0.34021127577784338), (Self, power, 0.33889727713739048), (Self, person, 0.49880184741096151), (Self, face, 0.34962279068791519), (Self, challenges, 0.25414503996900267), (Self, choices, 0.35337059292439932), (Self, person, 0.49880184741096151), (efficacy, beliefs, 0.35310088365853554), (efficacy, person, 0.14786496151320197), (efficacy, power, 0.20796245732561863), (efficacy, situations, 0.27539079965092361), (efficacy, power, 0.20796245732561863), (efficacy, person, 0.14786496151320197), (efficacy, face, 0.10751781687719023), (efficacy, challenges, 0.26906913316602477), (efficacy, choices, 0.21745029930717152), (efficacy, person, 0.14786496151320197), (area, beliefs, 0.12431514208718165), (area, person, 0.31711948349099733), (area, power, 0.23656573401796807), (area, situations, 0.30870302675411659), (area, power, 0.23656573401796807), (area, person, 0.31711948349099733), (area, face, 0.30230988286101201), (area, challenges, 0.2766920741011637), (area, choices, 0.27801254216180943), (area, person, 0.31711948349099733), (endeavor, beliefs, 0.35971430606417454), (endeavor, person, 0.33008482203123168), (endeavor, power, 0.22196536209350787), (endeavor, situations, 0.37790292206499143), (endeavor, power, 0.22196536209350787), (endeavor, person, 0.33008482203123168), (endeavor, face, 0.16371908863952811), (endeavor, challenges, 0.46109634687281031), (endeavor, choices, 0.38713270308701059), (endeavor, person, 0.33008482203123168)]\n",
      "[]\n",
      "[(beliefs, effects, 0.23180088890798756), (beliefs, regard, 0.51642290394155355), (beliefs, behaviors, 0.52690637388302575), (beliefs, health, 0.34573209057577675), (person, effects, 0.21965996872177093), (person, regard, 0.4860390980175171), (person, behaviors, 0.33967480125050259), (person, health, 0.35175333380319124), (power, effects, 0.30843887423767807), (power, regard, 0.34861363683058283), (power, behaviors, 0.13706475260130552), (power, health, 0.31412355279343945), (situations, effects, 0.37340317762253949), (situations, regard, 0.53661390627308403), (situations, behaviors, 0.53152781330559729), (situations, health, 0.34174657970377931), (power, effects, 0.30843887423767807), (power, regard, 0.34861363683058283), (power, behaviors, 0.13706475260130552), (power, health, 0.31412355279343945), (person, effects, 0.21965996872177093), (person, regard, 0.4860390980175171), (person, behaviors, 0.33967480125050259), (person, health, 0.35175333380319124), (face, effects, 0.26527502167856143), (face, regard, 0.31729833445615335), (face, behaviors, 0.16739911195801502), (face, health, 0.3231396372692743), (challenges, effects, 0.31397999941182009), (challenges, regard, 0.43692465214969606), (challenges, behaviors, 0.36687174926896943), (challenges, health, 0.44920443156892909), (choices, effects, 0.32306138321721733), (choices, regard, 0.46039803069764623), (choices, behaviors, 0.44298726644788339), (choices, health, 0.42208246723511866), (person, effects, 0.21965996872177093), (person, regard, 0.4860390980175171), (person, behaviors, 0.33967480125050259), (person, health, 0.35175333380319124)]\n",
      "[]\n",
      "[(effects, universe, 0.2379187373094194), (effects, space, 0.25357757195824632), (regard, universe, 0.30041346062217578), (regard, space, 0.22774005288394772), (behaviors, universe, 0.18132093116542011), (behaviors, space, 0.12788352613047516), (health, universe, 0.16340814362962755), (health, space, 0.23267971518003333)]\n",
      "[]\n",
      "[(universe, earth, 0.59618539307077068), (universe, middle, 0.23677125460809306), (space, earth, 0.44460401303132635), (space, middle, 0.37853659611205132)]\n",
      "[(universe, earth, 0.59618539307077068)]\n",
      "universe\n",
      "earth\n",
      "[{'device': 'within', 'source': u'efficacy', 'target': u'efficacy'}, {'device': 'within', 'source': u'efficacy', 'target': u'confidence'}, {'device': 'within', 'source': u'efficacy', 'target': u'ability'}, {'device': 'within', 'source': u'efficacy', 'target': u'result'}, {'device': 'between', 'source': u'ability', 'target': u'lack'}, {'device': 'within', 'source': u'interaction', 'target': u'efficacy'}, {'device': 'within', 'source': u'interaction', 'target': u'perspective'}, {'device': 'within', 'source': u'interaction', 'target': u'path'}, {'device': 'within', 'source': u'interaction', 'target': u'development'}, {'device': 'within', 'source': u'interaction', 'target': u'efficacy'}, {'device': 'within', 'source': u'interaction', 'target': u'efficacy'}, {'device': 'within', 'source': u'interaction', 'target': u'lack'}, {'device': 'within', 'source': u'interaction', 'target': u'setting'}, {'device': 'within', 'source': u'interaction', 'target': u'efficacy'}, {'device': 'within', 'source': u'interaction', 'target': u'concept'}, {'device': 'within', 'source': u'interaction', 'target': u'habit'}, {'device': 'within', 'source': u'interaction', 'target': u'attribution'}, {'device': 'within', 'source': u'interaction', 'target': u'efficacy'}, {'device': 'within', 'source': u'dynamic', 'target': u'efficacy'}, {'device': 'within', 'source': u'dynamic', 'target': u'perspective'}, {'device': 'within', 'source': u'dynamic', 'target': u'path'}, {'device': 'within', 'source': u'dynamic', 'target': u'development'}, {'device': 'within', 'source': u'dynamic', 'target': u'efficacy'}, {'device': 'within', 'source': u'dynamic', 'target': u'efficacy'}, {'device': 'within', 'source': u'dynamic', 'target': u'lack'}, {'device': 'within', 'source': u'dynamic', 'target': u'setting'}, {'device': 'within', 'source': u'dynamic', 'target': u'efficacy'}, {'device': 'within', 'source': u'dynamic', 'target': u'concept'}, {'device': 'within', 'source': u'dynamic', 'target': u'habit'}, {'device': 'within', 'source': u'dynamic', 'target': u'attribution'}, {'device': 'within', 'source': u'dynamic', 'target': u'efficacy'}, {'device': 'within', 'source': u'psychologist', 'target': u'efficacy'}, {'device': 'within', 'source': u'psychologist', 'target': u'perspective'}, {'device': 'within', 'source': u'psychologist', 'target': u'path'}, {'device': 'within', 'source': u'psychologist', 'target': u'development'}, {'device': 'within', 'source': u'psychologist', 'target': u'efficacy'}, {'device': 'within', 'source': u'psychologist', 'target': u'efficacy'}, {'device': 'within', 'source': u'psychologist', 'target': u'lack'}, {'device': 'within', 'source': u'psychologist', 'target': u'setting'}, {'device': 'within', 'source': u'psychologist', 'target': u'efficacy'}, {'device': 'within', 'source': u'psychologist', 'target': u'concept'}, {'device': 'within', 'source': u'psychologist', 'target': u'habit'}, {'device': 'within', 'source': u'psychologist', 'target': u'attribution'}, {'device': 'within', 'source': u'psychologist', 'target': u'efficacy'}, {'device': 'within', 'source': u'efficacy', 'target': u'area'}, {'device': 'within', 'source': u'efficacy', 'target': u'endeavor'}, {'device': 'within', 'source': u'person', 'target': u'belief'}, {'device': 'within', 'source': u'person', 'target': u'power'}, {'device': 'within', 'source': u'person', 'target': u'situation'}, {'device': 'within', 'source': u'person', 'target': u'power'}, {'device': 'within', 'source': u'person', 'target': u'challenge'}, {'device': 'within', 'source': u'person', 'target': u'choice'}, {'device': 'within', 'source': u'person', 'target': u'belief'}, {'device': 'within', 'source': u'person', 'target': u'power'}, {'device': 'within', 'source': u'person', 'target': u'situation'}, {'device': 'within', 'source': u'person', 'target': u'power'}, {'device': 'within', 'source': u'person', 'target': u'challenge'}, {'device': 'within', 'source': u'person', 'target': u'choice'}, {'device': 'within', 'source': u'person', 'target': u'belief'}, {'device': 'within', 'source': u'person', 'target': u'power'}, {'device': 'within', 'source': u'person', 'target': u'situation'}, {'device': 'within', 'source': u'person', 'target': u'power'}, {'device': 'within', 'source': u'person', 'target': u'challenge'}, {'device': 'within', 'source': u'person', 'target': u'choice'}, {'device': 'within', 'source': u'effect', 'target': u'regard'}, {'device': 'within', 'source': u'effect', 'target': u'behavior'}, {'device': 'within', 'source': u'effect', 'target': u'health'}, {'device': 'within', 'source': u'universe', 'target': u'space'}, {'device': 'between', 'source': u'universe', 'target': u'earth'}, {'device': 'within', 'source': u'earth', 'target': u'middle'}]\n"
     ]
    },
    {
     "ename": "KeyError",
     "evalue": "u'habit'",
     "output_type": "error",
     "traceback": [
      "\u001b[1;31m---------------------------------------------------------------------------\u001b[0m",
      "\u001b[1;31mKeyError\u001b[0m                                  Traceback (most recent call last)",
      "\u001b[1;32m<ipython-input-40-1c4dbd225e0c>\u001b[0m in \u001b[0;36m<module>\u001b[1;34m()\u001b[0m\n\u001b[0;32m      2\u001b[0m \u001b[1;32mfrom\u001b[0m \u001b[0manalyzerenglish\u001b[0m \u001b[1;32mimport\u001b[0m \u001b[0mCohesionAnalyzerEnglish\u001b[0m\u001b[1;33m\u001b[0m\u001b[0m\n\u001b[0;32m      3\u001b[0m \u001b[0mmodel\u001b[0m \u001b[1;33m=\u001b[0m \u001b[0mCohesionAnalyzerEnglish\u001b[0m\u001b[1;33m(\u001b[0m\u001b[0mnlp\u001b[0m\u001b[1;33m)\u001b[0m\u001b[1;33m\u001b[0m\u001b[0m\n\u001b[1;32m----> 4\u001b[1;33m \u001b[0mmodel\u001b[0m\u001b[1;33m.\u001b[0m\u001b[0mget_data_for_visualization\u001b[0m\u001b[1;33m(\u001b[0m\u001b[0mtext\u001b[0m\u001b[1;33m)\u001b[0m\u001b[1;33m\u001b[0m\u001b[0m\n\u001b[0m",
      "\u001b[1;32m/home/christian/Repositories/coherence_checker/analyzerenglish.py\u001b[0m in \u001b[0;36mget_data_for_visualization\u001b[1;34m(self, text)\u001b[0m\n\u001b[0;32m    405\u001b[0m         \u001b[1;31m# Generate html string\u001b[0m\u001b[1;33m\u001b[0m\u001b[1;33m\u001b[0m\u001b[0m\n\u001b[0;32m    406\u001b[0m         html_string = self._get_html_string(nodes_list, word_cluster_index,\n\u001b[1;32m--> 407\u001b[1;33m             paragraphs, visword_to_word)\n\u001b[0m\u001b[0;32m    408\u001b[0m \u001b[1;33m\u001b[0m\u001b[0m\n\u001b[0;32m    409\u001b[0m         \u001b[1;31m# return self.word_pairs\u001b[0m\u001b[1;33m\u001b[0m\u001b[1;33m\u001b[0m\u001b[0m\n",
      "\u001b[1;32m/home/christian/Repositories/coherence_checker/analyzerenglish.py\u001b[0m in \u001b[0;36m_get_html_string\u001b[1;34m(self, node_list, word_cluster_index, paragraphs, visword_to_word)\u001b[0m\n\u001b[0;32m    299\u001b[0m                 \u001b[1;32mif\u001b[0m \u001b[0mindex\u001b[0m \u001b[1;33m!=\u001b[0m \u001b[1;33m(\u001b[0m\u001b[0mlen\u001b[0m\u001b[1;33m(\u001b[0m\u001b[0mtokenized_sentences\u001b[0m\u001b[1;33m)\u001b[0m \u001b[1;33m-\u001b[0m \u001b[1;36m1\u001b[0m\u001b[1;33m)\u001b[0m\u001b[1;33m:\u001b[0m\u001b[1;33m\u001b[0m\u001b[0m\n\u001b[0;32m    300\u001b[0m                     \u001b[1;31m# Get cluster of current sentence\u001b[0m\u001b[1;33m\u001b[0m\u001b[1;33m\u001b[0m\u001b[0m\n\u001b[1;32m--> 301\u001b[1;33m                     \u001b[0mindexes_cur_sentence\u001b[0m \u001b[1;33m=\u001b[0m \u001b[1;33m[\u001b[0m\u001b[0mword_cluster_index\u001b[0m\u001b[1;33m[\u001b[0m\u001b[0mnode\u001b[0m\u001b[1;33m]\u001b[0m \u001b[1;32mfor\u001b[0m \u001b[0mnode\u001b[0m \u001b[1;32min\u001b[0m \u001b[0mnode_list\u001b[0m \u001b[1;32mif\u001b[0m \u001b[0msent\u001b[0m\u001b[1;33m.\u001b[0m\u001b[0mtext\u001b[0m\u001b[1;33m.\u001b[0m\u001b[0mfind\u001b[0m\u001b[1;33m(\u001b[0m\u001b[0mvisword_to_word\u001b[0m\u001b[1;33m[\u001b[0m\u001b[0mnode\u001b[0m\u001b[1;33m]\u001b[0m\u001b[1;33m[\u001b[0m\u001b[1;36m0\u001b[0m\u001b[1;33m]\u001b[0m\u001b[1;33m)\u001b[0m \u001b[1;33m!=\u001b[0m \u001b[1;33m-\u001b[0m\u001b[1;36m1\u001b[0m\u001b[1;33m]\u001b[0m\u001b[1;33m\u001b[0m\u001b[0m\n\u001b[0m\u001b[0;32m    302\u001b[0m                     \u001b[0mindexes_next_sentence\u001b[0m \u001b[1;33m=\u001b[0m \u001b[1;33m[\u001b[0m\u001b[0mword_cluster_index\u001b[0m\u001b[1;33m[\u001b[0m\u001b[0mnode\u001b[0m\u001b[1;33m]\u001b[0m \u001b[1;32mfor\u001b[0m \u001b[0mnode\u001b[0m \u001b[1;32min\u001b[0m \u001b[0mnode_list\u001b[0m \u001b[1;32mif\u001b[0m \u001b[0mtokenized_sentences\u001b[0m\u001b[1;33m[\u001b[0m\u001b[0mindex\u001b[0m \u001b[1;33m+\u001b[0m \u001b[1;36m1\u001b[0m\u001b[1;33m]\u001b[0m\u001b[1;33m.\u001b[0m\u001b[0mtext\u001b[0m\u001b[1;33m.\u001b[0m\u001b[0mfind\u001b[0m\u001b[1;33m(\u001b[0m\u001b[0mvisword_to_word\u001b[0m\u001b[1;33m[\u001b[0m\u001b[0mnode\u001b[0m\u001b[1;33m]\u001b[0m\u001b[1;33m[\u001b[0m\u001b[1;36m0\u001b[0m\u001b[1;33m]\u001b[0m\u001b[1;33m)\u001b[0m \u001b[1;33m!=\u001b[0m \u001b[1;33m-\u001b[0m\u001b[1;36m1\u001b[0m\u001b[1;33m]\u001b[0m\u001b[1;33m\u001b[0m\u001b[0m\n\u001b[0;32m    303\u001b[0m \u001b[1;33m\u001b[0m\u001b[0m\n",
      "\u001b[1;31mKeyError\u001b[0m: u'habit'"
     ]
    }
   ],
   "source": [
    "%autoreload\n",
    "from analyzerenglish import CohesionAnalyzerEnglish\n",
    "model = CohesionAnalyzerEnglish(nlp)\n",
    "model.get_data_for_visualization(text)"
   ]
  }
 ],
 "metadata": {
  "kernelspec": {
   "display_name": "Python 2",
   "language": "python",
   "name": "python2"
  },
  "language_info": {
   "codemirror_mode": {
    "name": "ipython",
    "version": 2
   },
   "file_extension": ".py",
   "mimetype": "text/x-python",
   "name": "python",
   "nbconvert_exporter": "python",
   "pygments_lexer": "ipython2",
   "version": "2.7.11"
  }
 },
 "nbformat": 4,
 "nbformat_minor": 0
}
