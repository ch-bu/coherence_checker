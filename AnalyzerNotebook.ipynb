{
 "cells": [
  {
   "cell_type": "code",
   "execution_count": 1,
   "metadata": {
    "collapsed": true
   },
   "outputs": [],
   "source": [
    "# Import spacy\n",
    "import spacy\n",
    "nlp = spacy.load('de_core_news_md')"
   ]
  },
  {
   "cell_type": "code",
   "execution_count": 8,
   "metadata": {
    "collapsed": false
   },
   "outputs": [],
   "source": [
    "text = u\"\"\"In der Folge versuchte Schumacher noch vorhandene Mängel durch häufiges Üben, \n",
    "insbesondere bei Regen, auszugleichen: „Da war ich meistens allein auf der Strecke, \n",
    "da fiel die Unterlegenheit meines Gefährts nicht so auf. Ganz davon zu schweigen, dass mir \n",
    "das Schleudern und Driften im Regen ganz besonders viel Spaß machte.“[9] Ein Zeitungsartikel \n",
    "würdigte ihn bereits als den wahrscheinlich jüngsten Kartfahrer der Bundesrepublik. \n",
    "Mit fünf Jahren feierte er seinen ersten Sieg; ein Jahr später errang er die erste Clubmeisterschaft \n",
    "gegen zum Teil wesentlich ältere Clubmitglieder. Als der Club von Kerpen-Horrem nach \n",
    "Kerpen-Manheim umzog, \n",
    "traf es sich für die Familie gut, dass ein Platzwart gesucht wurde und sich\n",
    "beiden Elternteilen eine zusätzliche Einnahmequelle bot. Barack Obama bat seine Hilfe an.\"\"\""
   ]
  },
  {
   "cell_type": "code",
   "execution_count": 2,
   "metadata": {
    "collapsed": false
   },
   "outputs": [],
   "source": [
    "%load_ext autoreload"
   ]
  },
  {
   "cell_type": "code",
   "execution_count": 67,
   "metadata": {
    "collapsed": false
   },
   "outputs": [
    {
     "name": "stdout",
     "output_type": "stream",
     "text": [
      "[1, 2]\n"
     ]
    }
   ],
   "source": [
    "x = [1, 1, 2]\n",
    "print list(set(x))"
   ]
  },
  {
   "cell_type": "code",
   "execution_count": 91,
   "metadata": {
    "collapsed": false,
    "scrolled": false
   },
   "outputs": [
    {
     "name": "stdout",
     "output_type": "stream",
     "text": [
      "{'manheim': 2, 'ganz besonders viel spa\\xc3\\x9f': 1, 'noch vorhandene m\\xc3\\xa4ngel durch h\\xc3\\xa4ufiges \\xc3\\x9cben': 0, 'eine zus\\xc3\\xa4tzliche einnahmequelle': 2, 'ein platzwart': 2, 'beiden elternteilen': 2, 'seine hilfe': 3, 'barack obama': 3, 'schumacher': 0, 'das schleudern und driften im regen': 1}\n",
      "In der Folge versuchte Schumacher noch vorhandene Mängel durch häufiges Üben, \n",
      "insbesondere bei Regen, auszugleichen:\n",
      "[('manheim', <type 'str'>, 2, ['manheim']), ('ganz besonders viel spa\\xc3\\x9f', <type 'str'>, 1, ['ganz besonders viel spa\\xc3\\x9f']), ('noch vorhandene m\\xc3\\xa4ngel durch h\\xc3\\xa4ufiges \\xc3\\x9cben', <type 'str'>, 0, ['noch vorhandene m\\xc3\\xa4ngel durch h\\xc3\\xa4ufiges \\xc3\\x9cben']), ('ein platzwart', <type 'str'>, 2, ['ein platzwart']), ('eine zus\\xc3\\xa4tzliche einnahmequelle', <type 'str'>, 2, ['eine zus\\xc3\\xa4tzliche einnahmequelle']), ('beiden elternteilen', <type 'str'>, 2, ['beiden elternteilen']), ('seine hilfe', <type 'str'>, 3, ['seine hilfe']), ('barack obama', <type 'str'>, 3, ['barack obama']), ('schumacher', <type 'str'>, 0, ['schumacher']), ('das schleudern und driften im regen', <type 'str'>, 1, ['das schleudern und driften im regen'])]\n"
     ]
    },
    {
     "ename": "UnicodeDecodeError",
     "evalue": "'ascii' codec can't decode byte 0xc3 in position 23: ordinal not in range(128)",
     "output_type": "error",
     "traceback": [
      "\u001b[1;31m---------------------------------------------------------------------------\u001b[0m",
      "\u001b[1;31mUnicodeDecodeError\u001b[0m                        Traceback (most recent call last)",
      "\u001b[1;32m<ipython-input-91-f96a8f5a4540>\u001b[0m in \u001b[0;36m<module>\u001b[1;34m()\u001b[0m\n\u001b[0;32m      2\u001b[0m \u001b[1;32mfrom\u001b[0m \u001b[0manalyzerenglish\u001b[0m \u001b[1;32mimport\u001b[0m \u001b[0mCohesionAnalyzerEnglish\u001b[0m\u001b[1;33m\u001b[0m\u001b[0m\n\u001b[0;32m      3\u001b[0m \u001b[0mmodel\u001b[0m \u001b[1;33m=\u001b[0m \u001b[0mCohesionAnalyzerEnglish\u001b[0m\u001b[1;33m(\u001b[0m\u001b[0mnlp\u001b[0m\u001b[1;33m,\u001b[0m \u001b[1;34m'de'\u001b[0m\u001b[1;33m)\u001b[0m\u001b[1;33m\u001b[0m\u001b[0m\n\u001b[1;32m----> 4\u001b[1;33m \u001b[0mmodel\u001b[0m\u001b[1;33m.\u001b[0m\u001b[0mget_data_for_visualization\u001b[0m\u001b[1;33m(\u001b[0m\u001b[0mtext\u001b[0m\u001b[1;33m)\u001b[0m\u001b[1;33m\u001b[0m\u001b[0m\n\u001b[0m",
      "\u001b[1;32m/home/christian/Repositories/coherence_checker/analyzerenglish.py\u001b[0m in \u001b[0;36mget_data_for_visualization\u001b[1;34m(self, text)\u001b[0m\n\u001b[0;32m    558\u001b[0m         \u001b[1;31m# Generate html string\u001b[0m\u001b[1;33m\u001b[0m\u001b[1;33m\u001b[0m\u001b[0m\n\u001b[0;32m    559\u001b[0m         html_string = self._get_html_string(nodes_list, word_cluster_index,\n\u001b[1;32m--> 560\u001b[1;33m             paragraphs, visword_to_word)\n\u001b[0m\u001b[0;32m    561\u001b[0m \u001b[1;33m\u001b[0m\u001b[0m\n\u001b[0;32m    562\u001b[0m         \u001b[1;31m# return self.word_pairs\u001b[0m\u001b[1;33m\u001b[0m\u001b[1;33m\u001b[0m\u001b[0m\n",
      "\u001b[1;32m/home/christian/Repositories/coherence_checker/analyzerenglish.py\u001b[0m in \u001b[0;36m_get_html_string\u001b[1;34m(self, node_list, word_cluster_index, paragraphs, visword_to_word)\u001b[0m\n\u001b[0;32m    445\u001b[0m                     \u001b[1;32mprint\u001b[0m \u001b[1;33m[\u001b[0m\u001b[1;33m(\u001b[0m\u001b[0mnode\u001b[0m\u001b[1;33m,\u001b[0m \u001b[0mtype\u001b[0m\u001b[1;33m(\u001b[0m\u001b[0mnode\u001b[0m\u001b[1;33m)\u001b[0m\u001b[1;33m,\u001b[0m \u001b[0mword_cluster_index\u001b[0m\u001b[1;33m[\u001b[0m\u001b[0mnode\u001b[0m\u001b[1;33m]\u001b[0m\u001b[1;33m,\u001b[0m \u001b[0mvisword_to_word\u001b[0m\u001b[1;33m[\u001b[0m\u001b[0mnode\u001b[0m\u001b[1;33m]\u001b[0m\u001b[1;33m)\u001b[0m \u001b[1;32mfor\u001b[0m \u001b[0mnode\u001b[0m \u001b[1;32min\u001b[0m \u001b[0mnode_list\u001b[0m\u001b[1;33m]\u001b[0m\u001b[1;33m\u001b[0m\u001b[0m\n\u001b[0;32m    446\u001b[0m                     \u001b[1;31m# Get cluster of current sentence\u001b[0m\u001b[1;33m\u001b[0m\u001b[1;33m\u001b[0m\u001b[0m\n\u001b[1;32m--> 447\u001b[1;33m                     \u001b[0mindexes_cur_sentence\u001b[0m \u001b[1;33m=\u001b[0m \u001b[1;33m[\u001b[0m\u001b[0mword_cluster_index\u001b[0m\u001b[1;33m[\u001b[0m\u001b[0mnode\u001b[0m\u001b[1;33m]\u001b[0m \u001b[1;32mfor\u001b[0m \u001b[0mnode\u001b[0m \u001b[1;32min\u001b[0m \u001b[0mnode_list\u001b[0m \u001b[1;32mif\u001b[0m \u001b[0msent\u001b[0m\u001b[1;33m.\u001b[0m\u001b[0mtext\u001b[0m\u001b[1;33m.\u001b[0m\u001b[0mfind\u001b[0m\u001b[1;33m(\u001b[0m\u001b[0mvisword_to_word\u001b[0m\u001b[1;33m[\u001b[0m\u001b[0mnode\u001b[0m\u001b[1;33m]\u001b[0m\u001b[1;33m[\u001b[0m\u001b[1;36m0\u001b[0m\u001b[1;33m]\u001b[0m\u001b[1;33m)\u001b[0m \u001b[1;33m!=\u001b[0m \u001b[1;33m-\u001b[0m\u001b[1;36m1\u001b[0m\u001b[1;33m]\u001b[0m\u001b[1;33m\u001b[0m\u001b[0m\n\u001b[0m\u001b[0;32m    448\u001b[0m                     \u001b[0mindexes_next_sentence\u001b[0m \u001b[1;33m=\u001b[0m \u001b[1;33m[\u001b[0m\u001b[0mword_cluster_index\u001b[0m\u001b[1;33m[\u001b[0m\u001b[0mnode\u001b[0m\u001b[1;33m]\u001b[0m \u001b[1;32mfor\u001b[0m \u001b[0mnode\u001b[0m \u001b[1;32min\u001b[0m \u001b[0mnode_list\u001b[0m \u001b[1;32mif\u001b[0m \u001b[0mtokenized_sentences\u001b[0m\u001b[1;33m[\u001b[0m\u001b[0mindex\u001b[0m \u001b[1;33m+\u001b[0m \u001b[1;36m1\u001b[0m\u001b[1;33m]\u001b[0m\u001b[1;33m.\u001b[0m\u001b[0mtext\u001b[0m\u001b[1;33m.\u001b[0m\u001b[0mfind\u001b[0m\u001b[1;33m(\u001b[0m\u001b[0mvisword_to_word\u001b[0m\u001b[1;33m[\u001b[0m\u001b[0mnode\u001b[0m\u001b[1;33m]\u001b[0m\u001b[1;33m[\u001b[0m\u001b[1;36m0\u001b[0m\u001b[1;33m]\u001b[0m\u001b[1;33m)\u001b[0m \u001b[1;33m!=\u001b[0m \u001b[1;33m-\u001b[0m\u001b[1;36m1\u001b[0m\u001b[1;33m]\u001b[0m\u001b[1;33m\u001b[0m\u001b[0m\n\u001b[0;32m    449\u001b[0m \u001b[1;33m\u001b[0m\u001b[0m\n",
      "\u001b[1;31mUnicodeDecodeError\u001b[0m: 'ascii' codec can't decode byte 0xc3 in position 23: ordinal not in range(128)"
     ]
    }
   ],
   "source": [
    "%autoreload\n",
    "from analyzerenglish import CohesionAnalyzerEnglish\n",
    "model = CohesionAnalyzerEnglish(nlp, 'de')\n",
    "model.get_data_for_visualization(text)"
   ]
  }
 ],
 "metadata": {
  "kernelspec": {
   "display_name": "Python 2",
   "language": "python",
   "name": "python2"
  },
  "language_info": {
   "codemirror_mode": {
    "name": "ipython",
    "version": 2
   },
   "file_extension": ".py",
   "mimetype": "text/x-python",
   "name": "python",
   "nbconvert_exporter": "python",
   "pygments_lexer": "ipython2",
   "version": "2.7.11"
  }
 },
 "nbformat": 4,
 "nbformat_minor": 0
}
