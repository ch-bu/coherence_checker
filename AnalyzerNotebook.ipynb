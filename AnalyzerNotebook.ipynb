{
 "cells": [
  {
   "cell_type": "code",
   "execution_count": 1,
   "metadata": {
    "collapsed": true
   },
   "outputs": [],
   "source": [
    "# Import spacy\n",
    "import spacy\n",
    "nlp = spacy.load('en_core_web_md')"
   ]
  },
  {
   "cell_type": "code",
   "execution_count": 2,
   "metadata": {
    "collapsed": false
   },
   "outputs": [],
   "source": [
    "text = u\"\"\"Data retention defines the policies of persistent data and records\n",
    "management for meeting legal and business data archival requirements;\n",
    "although sometimes interchangeable, not to be confused with the Data\n",
    "Protection Act 1998. [LINEBREAK]\n",
    "The different data retention policies weigh legal and privacy concerns\n",
    "against economics and need-to-know concerns to determine the retention\n",
    "time, archival rules, data formats, and the permissible means of storage,\n",
    "access, and encryption.[LINEBREAK]\n",
    "In the field of telecommunications, data retention (or data preservation)\n",
    "generally refers to the storage of call detail records (CDRs) of telephony\n",
    "and internet traffic and transaction data (IPDRs) by governments and\n",
    "commercial organisations. In the case of government data retention, the\n",
    "data that is stored is usually of telephone calls made and received,\n",
    "emails sent and received, and websites visited. Location data is also\n",
    "collected.\"\"\""
   ]
  },
  {
   "cell_type": "code",
   "execution_count": 40,
   "metadata": {
    "collapsed": true
   },
   "outputs": [],
   "source": [
    "text1 = u'Hans goes to the cinema. The cinema are full of people. The movie is great.'"
   ]
  },
  {
   "cell_type": "code",
   "execution_count": 3,
   "metadata": {
    "collapsed": false
   },
   "outputs": [],
   "source": [
    "%load_ext autoreload"
   ]
  },
  {
   "cell_type": "code",
   "execution_count": 67,
   "metadata": {
    "collapsed": false
   },
   "outputs": [
    {
     "name": "stdout",
     "output_type": "stream",
     "text": [
      "[1, 2]\n"
     ]
    }
   ],
   "source": [
    "x = [1, 1, 2]\n",
    "print list(set(x))"
   ]
  },
  {
   "cell_type": "code",
   "execution_count": 17,
   "metadata": {
    "collapsed": false,
    "scrolled": false
   },
   "outputs": [
    {
     "ename": "AttributeError",
     "evalue": "'spacy.tokens.span.Span' object has no attribute 'replace'",
     "output_type": "error",
     "traceback": [
      "\u001b[1;31m---------------------------------------------------------------------------\u001b[0m",
      "\u001b[1;31mAttributeError\u001b[0m                            Traceback (most recent call last)",
      "\u001b[1;32m<ipython-input-17-1c4dbd225e0c>\u001b[0m in \u001b[0;36m<module>\u001b[1;34m()\u001b[0m\n\u001b[0;32m      2\u001b[0m \u001b[1;32mfrom\u001b[0m \u001b[0manalyzerenglish\u001b[0m \u001b[1;32mimport\u001b[0m \u001b[0mCohesionAnalyzerEnglish\u001b[0m\u001b[1;33m\u001b[0m\u001b[0m\n\u001b[0;32m      3\u001b[0m \u001b[0mmodel\u001b[0m \u001b[1;33m=\u001b[0m \u001b[0mCohesionAnalyzerEnglish\u001b[0m\u001b[1;33m(\u001b[0m\u001b[0mnlp\u001b[0m\u001b[1;33m)\u001b[0m\u001b[1;33m\u001b[0m\u001b[0m\n\u001b[1;32m----> 4\u001b[1;33m \u001b[0mmodel\u001b[0m\u001b[1;33m.\u001b[0m\u001b[0mget_data_for_visualization\u001b[0m\u001b[1;33m(\u001b[0m\u001b[0mtext\u001b[0m\u001b[1;33m)\u001b[0m\u001b[1;33m\u001b[0m\u001b[0m\n\u001b[0m",
      "\u001b[1;32m/home/christian/Repositories/coherence_checker/analyzerenglish.py\u001b[0m in \u001b[0;36mget_data_for_visualization\u001b[1;34m(self, text)\u001b[0m\n\u001b[0;32m    515\u001b[0m         \u001b[1;31m# Generate html string\u001b[0m\u001b[1;33m\u001b[0m\u001b[1;33m\u001b[0m\u001b[0m\n\u001b[0;32m    516\u001b[0m         html_string = self._get_html_string(nodes_list, word_cluster_index,\n\u001b[1;32m--> 517\u001b[1;33m             paragraphs, visword_to_word)\n\u001b[0m\u001b[0;32m    518\u001b[0m \u001b[1;33m\u001b[0m\u001b[0m\n\u001b[0;32m    519\u001b[0m         \u001b[1;31m# return self.word_pairs\u001b[0m\u001b[1;33m\u001b[0m\u001b[1;33m\u001b[0m\u001b[0m\n",
      "\u001b[1;32m/home/christian/Repositories/coherence_checker/analyzerenglish.py\u001b[0m in \u001b[0;36m_get_html_string\u001b[1;34m(self, node_list, word_cluster_index, paragraphs, visword_to_word)\u001b[0m\n\u001b[0;32m    396\u001b[0m                             \u001b[1;32mfor\u001b[0m \u001b[0mreal_word\u001b[0m \u001b[1;32min\u001b[0m \u001b[0mlist\u001b[0m\u001b[1;33m(\u001b[0m\u001b[0mset\u001b[0m\u001b[1;33m(\u001b[0m\u001b[0mvisword_to_word\u001b[0m\u001b[1;33m[\u001b[0m\u001b[0mnode\u001b[0m\u001b[1;33m.\u001b[0m\u001b[0mlower\u001b[0m\u001b[1;33m(\u001b[0m\u001b[1;33m)\u001b[0m\u001b[1;33m]\u001b[0m\u001b[1;33m)\u001b[0m\u001b[1;33m)\u001b[0m\u001b[1;33m:\u001b[0m\u001b[1;33m\u001b[0m\u001b[0m\n\u001b[0;32m    397\u001b[0m                                 \u001b[1;31m# Change to span element\u001b[0m\u001b[1;33m\u001b[0m\u001b[1;33m\u001b[0m\u001b[0m\n\u001b[1;32m--> 398\u001b[1;33m                                 sentence = sentence.replace(real_word,\n\u001b[0m\u001b[0;32m    399\u001b[0m                                     \u001b[1;34m'<span class=\"cluster-'\u001b[0m \u001b[1;33m+\u001b[0m\u001b[1;33m\u001b[0m\u001b[0m\n\u001b[0;32m    400\u001b[0m                                     \u001b[0mstr\u001b[0m\u001b[1;33m(\u001b[0m\u001b[0mcluster_last_sentence\u001b[0m\u001b[1;33m)\u001b[0m \u001b[1;33m+\u001b[0m \u001b[1;34m'\">'\u001b[0m \u001b[1;33m+\u001b[0m\u001b[1;33m\u001b[0m\u001b[0m\n",
      "\u001b[1;31mAttributeError\u001b[0m: 'spacy.tokens.span.Span' object has no attribute 'replace'"
     ]
    }
   ],
   "source": [
    "%autoreload\n",
    "from analyzerenglish import CohesionAnalyzerEnglish\n",
    "model = CohesionAnalyzerEnglish(nlp)\n",
    "model.get_data_for_visualization(text)"
   ]
  }
 ],
 "metadata": {
  "kernelspec": {
   "display_name": "Python 2",
   "language": "python",
   "name": "python2"
  },
  "language_info": {
   "codemirror_mode": {
    "name": "ipython",
    "version": 2
   },
   "file_extension": ".py",
   "mimetype": "text/x-python",
   "name": "python",
   "nbconvert_exporter": "python",
   "pygments_lexer": "ipython2",
   "version": "2.7.11"
  }
 },
 "nbformat": 4,
 "nbformat_minor": 0
}
